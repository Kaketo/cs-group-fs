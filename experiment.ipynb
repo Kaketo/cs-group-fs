{
 "cells": [
  {
   "cell_type": "code",
   "execution_count": 1,
   "outputs": [],
   "source": [
    "import datetime\n",
    "import pandas as pd\n",
    "\n",
    "from src.functions import lmb_opt, lmb_opt_group, find_best_features_subset, find_best_group_subset\n",
    "from src.plot_functions import score, plot_scores"
   ],
   "metadata": {
    "collapsed": false
   }
  },
  {
   "cell_type": "markdown",
   "source": [
    "# Metadata"
   ],
   "metadata": {
    "collapsed": false
   }
  },
  {
   "cell_type": "code",
   "execution_count": 3,
   "outputs": [],
   "source": [
    "BUDGET = 100\n",
    "TOTAL_COST = 680"
   ],
   "metadata": {
    "collapsed": false
   }
  },
  {
   "cell_type": "markdown",
   "source": [
    "# Load data"
   ],
   "metadata": {
    "collapsed": false
   }
  },
  {
   "cell_type": "markdown",
   "source": [
    "### Subset with Your dataset"
   ],
   "metadata": {
    "collapsed": false
   }
  },
  {
   "cell_type": "code",
   "execution_count": 5,
   "outputs": [],
   "source": [
    "X_train = pd.read_csv('./../first_experiment/data/hypertension/X_train.csv')\n",
    "y_train = pd.read_csv('./../first_experiment/data/hypertension/y_train.csv')['hypertension'].values.astype(int)\n",
    "X_test = pd.read_csv('./../first_experiment/data/hypertension/X_test.csv')\n",
    "y_test = pd.read_csv('./../first_experiment/data/hypertension/y_test.csv')['hypertension'].values.astype(int)\n",
    "\n",
    "groups_df = pd.read_csv('./../first_experiment/data/costs_with_group_id.csv', header=0, sep=';')"
   ],
   "metadata": {
    "collapsed": false
   }
  },
  {
   "cell_type": "code",
   "execution_count": 8,
   "outputs": [
    {
     "data": {
      "text/plain": "((17795, 305), (1978, 305), (17795,), (1978,))"
     },
     "execution_count": 8,
     "metadata": {},
     "output_type": "execute_result"
    }
   ],
   "source": [
    "X_train.shape, X_test.shape, y_train.shape, y_test.shape"
   ],
   "metadata": {
    "collapsed": false
   }
  },
  {
   "cell_type": "code",
   "execution_count": 17,
   "outputs": [
    {
     "data": {
      "text/plain": "                                            feature  costs  group_id   \n85            Leukocytes [#/volume] in Blood median    2.0        22  \\\n117  Specific gravity of Urine by Test strip median    2.0        33   \n69             Platelets [#/volume] in Blood median    2.0        18   \n166                  LLL Lung Sounds freq NOT CLEAR    9.0        49   \n303                       Renal SOFA Score freq 1-2   12.0        87   \n\n     feature_id  \n85           85  \n117         117  \n69           69  \n166         166  \n303         303  ",
      "text/html": "<div>\n<style scoped>\n    .dataframe tbody tr th:only-of-type {\n        vertical-align: middle;\n    }\n\n    .dataframe tbody tr th {\n        vertical-align: top;\n    }\n\n    .dataframe thead th {\n        text-align: right;\n    }\n</style>\n<table border=\"1\" class=\"dataframe\">\n  <thead>\n    <tr style=\"text-align: right;\">\n      <th></th>\n      <th>feature</th>\n      <th>costs</th>\n      <th>group_id</th>\n      <th>feature_id</th>\n    </tr>\n  </thead>\n  <tbody>\n    <tr>\n      <th>85</th>\n      <td>Leukocytes [#/volume] in Blood median</td>\n      <td>2.0</td>\n      <td>22</td>\n      <td>85</td>\n    </tr>\n    <tr>\n      <th>117</th>\n      <td>Specific gravity of Urine by Test strip median</td>\n      <td>2.0</td>\n      <td>33</td>\n      <td>117</td>\n    </tr>\n    <tr>\n      <th>69</th>\n      <td>Platelets [#/volume] in Blood median</td>\n      <td>2.0</td>\n      <td>18</td>\n      <td>69</td>\n    </tr>\n    <tr>\n      <th>166</th>\n      <td>LLL Lung Sounds freq NOT CLEAR</td>\n      <td>9.0</td>\n      <td>49</td>\n      <td>166</td>\n    </tr>\n    <tr>\n      <th>303</th>\n      <td>Renal SOFA Score freq 1-2</td>\n      <td>12.0</td>\n      <td>87</td>\n      <td>303</td>\n    </tr>\n  </tbody>\n</table>\n</div>"
     },
     "execution_count": 17,
     "metadata": {},
     "output_type": "execute_result"
    }
   ],
   "source": [
    "groups_df.sample(5)"
   ],
   "metadata": {
    "collapsed": false
   }
  },
  {
   "cell_type": "code",
   "execution_count": 9,
   "outputs": [
    {
     "name": "stdout",
     "output_type": "stream",
     "text": [
      "0.21224175566366077\n",
      "4.198612604606511\n"
     ]
    }
   ],
   "source": [
    "group_costs = {}\n",
    "for i,j in zip(groups_df['group_id'], groups_df['costs']):\n",
    "    if i not in group_costs:\n",
    "        group_costs[i] = j\n",
    "\n",
    "normalized_costs = {}\n",
    "min_cost = min(group_costs.values())\n",
    "max_cost = max(group_costs.values())\n",
    "for k,v in group_costs.items():\n",
    "    normalized_costs[k] = (1 - 0.1) * (v - min_cost) / (max_cost - min_cost) + 0.1\n",
    "\n",
    "groups = {}\n",
    "for i,j in zip(groups_df['group_id'], groups_df['feature_id']):\n",
    "    if i not in groups:\n",
    "        groups[i] = [j]\n",
    "    else:\n",
    "        groups[i].append(j)\n",
    "\n",
    "features_dict = {}\n",
    "for i,j in zip(groups_df['feature_id'], groups_df['feature']):\n",
    "    features_dict[i] = j\n",
    "\n",
    "\n",
    "l_opt = 0.21224175566366077\n",
    "l_opt_group = 4.198612604606511\n",
    "\n",
    "if l_opt is None:\n",
    "    l_opt = lmb_opt(X=X_train, y=y_train, groups=groups, group_costs=group_costs, normalized_costs=normalized_costs, budget=20, n=10, m=10000)\n",
    "if l_opt_group is None:\n",
    "    l_opt_group = lmb_opt_group(X=X_train, y=y_train, groups=groups, group_costs=group_costs, normalized_costs=normalized_costs, budget=20, n=10, m=5000)\n",
    "\n",
    "print(l_opt)\n",
    "print(l_opt_group)"
   ],
   "metadata": {
    "collapsed": false
   }
  },
  {
   "cell_type": "markdown",
   "source": [
    "# Feature selection"
   ],
   "metadata": {
    "collapsed": false
   }
  },
  {
   "cell_type": "markdown",
   "source": [
    "### Traditional"
   ],
   "metadata": {
    "collapsed": false
   }
  },
  {
   "cell_type": "code",
   "execution_count": null,
   "outputs": [],
   "source": [
    "features_trad_a1, costs_trad_a1 = find_best_features_subset(\n",
    "    X_train,\n",
    "    y_train,\n",
    "    groups,\n",
    "    group_costs,\n",
    "    budget=BUDGET\n",
    ")\n",
    "df_traditional = pd.DataFrame({\n",
    "        'feature_order' : features_trad_a1,\n",
    "        'total_cost': costs_trad_a1\n",
    "    })"
   ],
   "metadata": {
    "collapsed": false
   }
  },
  {
   "cell_type": "markdown",
   "source": [
    "### Cost-constrained (CC-SFS)"
   ],
   "metadata": {
    "collapsed": false
   }
  },
  {
   "cell_type": "code",
   "execution_count": null,
   "outputs": [],
   "source": [
    "features_cs_sfs, costs_cs_sfs = find_best_features_subset(\n",
    "    X_train,\n",
    "    y_train,\n",
    "    groups,\n",
    "    group_costs,\n",
    "    budget=BUDGET,\n",
    "    lmb=l_opt\n",
    ")\n",
    "df_cc_sfs = pd.DataFrame({\n",
    "        'feature_order' : features_cs_sfs,\n",
    "        'total_cost': costs_cs_sfs\n",
    "    })"
   ],
   "metadata": {
    "collapsed": false
   }
  },
  {
   "cell_type": "markdown",
   "source": [
    "### Cost-constrained (CC-GFS)"
   ],
   "metadata": {
    "collapsed": false
   }
  },
  {
   "cell_type": "code",
   "execution_count": null,
   "outputs": [],
   "source": [
    "TAU = 0.8\n",
    "features_cs_gfs, costs_cs_gfs = find_best_group_subset(\n",
    "    X_train,\n",
    "    y_train,\n",
    "    groups,\n",
    "    group_costs,\n",
    "    budget=BUDGET,\n",
    "    tau=TAU,\n",
    "    lmb=l_opt_group\n",
    ")\n",
    "df_cc_gfs = pd.DataFrame({\n",
    "    'feature_order' : features_cs_gfs,\n",
    "    'total_cost': costs_cs_gfs\n",
    "})\n"
   ],
   "metadata": {
    "collapsed": false
   }
  },
  {
   "cell_type": "markdown",
   "source": [
    "# Results"
   ],
   "metadata": {
    "collapsed": false
   }
  },
  {
   "cell_type": "markdown",
   "source": [
    "### Plot settings"
   ],
   "metadata": {
    "collapsed": false
   }
  },
  {
   "cell_type": "code",
   "execution_count": null,
   "outputs": [],
   "source": [
    "dict_desc_names = {\n",
    "    'traditional' : 'Traditional',\n",
    "    'cc_sfs' : 'CC-SFS',\n",
    "    'cc_gfs' : 'CC-GFS'\n",
    "}\n",
    "\n",
    "dict_colors = {\n",
    "    'traditional' : 'red',\n",
    "    'cc_sfs' : 'blue',\n",
    "    'cc_gfs' : 'green'\n",
    "}\n",
    "\n",
    "dict_linestyle = {\n",
    "    'traditional' : 'solid',\n",
    "    'cc_sfs' : 'dashed',\n",
    "    'cc_gfs' : 'dashed'\n",
    "}\n",
    "\n",
    "plot_settings = {}\n",
    "plot_settings['names'] = dict_desc_names\n",
    "plot_settings['colors'] = dict_colors\n",
    "plot_settings['linestyles'] = dict_linestyle\n",
    "plot_settings"
   ],
   "metadata": {
    "collapsed": false
   }
  },
  {
   "cell_type": "markdown",
   "source": [
    "### Scoring"
   ],
   "metadata": {
    "collapsed": false
   }
  },
  {
   "cell_type": "code",
   "execution_count": null,
   "outputs": [],
   "source": [
    "scores = {}\n",
    "scores['traditional'] = score(\n",
    "    X_train = X_train,\n",
    "    y_train = y_train,\n",
    "    X_test = X_test,\n",
    "    y_test = y_test,\n",
    "    feature_order = df_traditional['feature_order']\n",
    ")\n",
    "scores['cc_sfs'] = score(\n",
    "    X_train = X_train,\n",
    "    y_train = y_train,\n",
    "    X_test = X_test,\n",
    "    y_test = y_test,\n",
    "    feature_order = df_cc_sfs['feature_order']\n",
    ")\n",
    "scores['cc_gfs'] = score(\n",
    "    X_train = X_train,\n",
    "    y_train = y_train,\n",
    "    X_test = X_test,\n",
    "    y_test = y_test,\n",
    "    feature_order = df_cc_gfs['feature_order']\n",
    ")"
   ],
   "metadata": {
    "collapsed": false
   }
  },
  {
   "cell_type": "code",
   "execution_count": null,
   "outputs": [],
   "source": [
    "results_df = {}\n",
    "\n",
    "results_df['traditional'] = pd.DataFrame({\n",
    "    'feature_order' : df_traditional['feature_order'],\n",
    "    'total_cost': df_traditional['total_cost'],\n",
    "    'score' : scores['traditional']\n",
    "}).groupby('total_cost', as_index=False).agg({'score':max})\n",
    "\n",
    "results_df['cc_sfs'] = pd.DataFrame({\n",
    "    'feature_order' : df_cc_sfs['feature_order'],\n",
    "    'total_cost': df_cc_sfs['total_cost'],\n",
    "    'score' : scores['cc_sfs']\n",
    "}).groupby('total_cost', as_index=False).agg({'score':max})\n",
    "\n",
    "results_df['cc_gfs'] = pd.DataFrame({\n",
    "    'feature_order' : df_cc_gfs['feature_order'],\n",
    "    'total_cost': df_cc_gfs['total_cost'],\n",
    "    'score' : scores['cc_gfs']\n",
    "}).groupby('total_cost', as_index=False).agg({'score':max})"
   ],
   "metadata": {
    "collapsed": false
   }
  },
  {
   "cell_type": "markdown",
   "source": [
    "### Plots"
   ],
   "metadata": {
    "collapsed": false
   }
  },
  {
   "cell_type": "code",
   "execution_count": null,
   "outputs": [],
   "source": [
    "plot_scores(\n",
    "    results_df=results_df,\n",
    "    budget=68,\n",
    "    total_cost=TOTAL_COST,\n",
    "    plot_settings=plot_settings\n",
    ")"
   ],
   "metadata": {
    "collapsed": false
   }
  }
 ],
 "metadata": {
  "kernelspec": {
   "display_name": "Python 3",
   "language": "python",
   "name": "python3"
  },
  "language_info": {
   "codemirror_mode": {
    "name": "ipython",
    "version": 2
   },
   "file_extension": ".py",
   "mimetype": "text/x-python",
   "name": "python",
   "nbconvert_exporter": "python",
   "pygments_lexer": "ipython2",
   "version": "2.7.6"
  }
 },
 "nbformat": 4,
 "nbformat_minor": 0
}
