{
 "cells": [
  {
   "cell_type": "code",
   "execution_count": 1,
   "outputs": [],
   "source": [
    "import datetime\n",
    "\n",
    "import numpy as np\n",
    "import pandas as pd\n",
    "import matplotlib.pyplot as plt\n",
    "\n",
    "from sklearn.datasets import load_breast_cancer\n",
    "from sklearn.model_selection import train_test_split\n",
    "\n",
    "from src.functions import lmb_opt, lmb_opt_group, find_best_features_subset, find_best_group_subset\n",
    "from src.plot_functions import score, plot_scores"
   ],
   "metadata": {
    "collapsed": false
   }
  },
  {
   "cell_type": "markdown",
   "source": [
    "# Metadata"
   ],
   "metadata": {
    "collapsed": false
   }
  },
  {
   "cell_type": "code",
   "execution_count": 2,
   "outputs": [],
   "source": [
    "BUDGET = 60\n",
    "TOTAL_COST = 60"
   ],
   "metadata": {
    "collapsed": false
   }
  },
  {
   "cell_type": "markdown",
   "source": [
    "# Load data"
   ],
   "metadata": {
    "collapsed": false
   }
  },
  {
   "cell_type": "markdown",
   "source": [
    "### Subset with Your dataset"
   ],
   "metadata": {
    "collapsed": false
   }
  },
  {
   "cell_type": "code",
   "execution_count": 3,
   "outputs": [],
   "source": [
    "cancer = load_breast_cancer()\n",
    "X = cancer['data']\n",
    "y = cancer['target']"
   ],
   "metadata": {
    "collapsed": false
   }
  },
  {
   "cell_type": "code",
   "execution_count": 4,
   "outputs": [],
   "source": [
    "X_train, X_test, y_train, y_test = train_test_split(X, y, test_size=0.2, random_state=42)"
   ],
   "metadata": {
    "collapsed": false
   }
  },
  {
   "cell_type": "code",
   "execution_count": 5,
   "outputs": [
    {
     "data": {
      "text/plain": "array(['mean radius', 'mean texture', 'mean perimeter', 'mean area',\n       'mean smoothness', 'mean compactness', 'mean concavity',\n       'mean concave points', 'mean symmetry', 'mean fractal dimension',\n       'radius error', 'texture error', 'perimeter error', 'area error',\n       'smoothness error', 'compactness error', 'concavity error',\n       'concave points error', 'symmetry error',\n       'fractal dimension error', 'worst radius', 'worst texture',\n       'worst perimeter', 'worst area', 'worst smoothness',\n       'worst compactness', 'worst concavity', 'worst concave points',\n       'worst symmetry', 'worst fractal dimension'], dtype='<U23')"
     },
     "execution_count": 5,
     "metadata": {},
     "output_type": "execute_result"
    }
   ],
   "source": [
    "cancer['feature_names']"
   ],
   "metadata": {
    "collapsed": false
   }
  },
  {
   "cell_type": "code",
   "execution_count": 6,
   "outputs": [
    {
     "data": {
      "text/plain": "((455, 30), (114, 30), (455,), (114,))"
     },
     "execution_count": 6,
     "metadata": {},
     "output_type": "execute_result"
    }
   ],
   "source": [
    "X_train.shape, X_test.shape, y_train.shape, y_test.shape"
   ],
   "metadata": {
    "collapsed": false
   }
  },
  {
   "cell_type": "code",
   "execution_count": 7,
   "outputs": [
    {
     "data": {
      "text/plain": "                    feature  costs  group_id  feature_id\n0               mean radius     10         0           0\n1              mean texture     10         0           1\n2            mean perimeter     10         0           2\n3                 mean area     10         0           3\n4           mean smoothness     10         0           4\n5          mean compactness     10         1           5\n6            mean concavity     10         1           6\n7       mean concave points     10         1           7\n8             mean symmetry     10         1           8\n9    mean fractal dimension     10         1           9\n10             radius error     10         2          10\n11            texture error     10         2          11\n12          perimeter error     10         2          12\n13               area error     10         2          13\n14         smoothness error     10         2          14\n15        compactness error     10         3          15\n16          concavity error     10         3          16\n17     concave points error     10         3          17\n18           symmetry error     10         3          18\n19  fractal dimension error     10         3          19\n20             worst radius      9         5          20\n21            worst texture      9         5          21\n22          worst perimeter      9         5          22\n23               worst area      9         5          23\n24         worst smoothness      9         5          24\n25        worst compactness      8         5          25\n26          worst concavity      8         5          26\n27     worst concave points      8         5          27\n28           worst symmetry      8         5          28\n29  worst fractal dimension      8         5          29",
      "text/html": "<div>\n<style scoped>\n    .dataframe tbody tr th:only-of-type {\n        vertical-align: middle;\n    }\n\n    .dataframe tbody tr th {\n        vertical-align: top;\n    }\n\n    .dataframe thead th {\n        text-align: right;\n    }\n</style>\n<table border=\"1\" class=\"dataframe\">\n  <thead>\n    <tr style=\"text-align: right;\">\n      <th></th>\n      <th>feature</th>\n      <th>costs</th>\n      <th>group_id</th>\n      <th>feature_id</th>\n    </tr>\n  </thead>\n  <tbody>\n    <tr>\n      <th>0</th>\n      <td>mean radius</td>\n      <td>10</td>\n      <td>0</td>\n      <td>0</td>\n    </tr>\n    <tr>\n      <th>1</th>\n      <td>mean texture</td>\n      <td>10</td>\n      <td>0</td>\n      <td>1</td>\n    </tr>\n    <tr>\n      <th>2</th>\n      <td>mean perimeter</td>\n      <td>10</td>\n      <td>0</td>\n      <td>2</td>\n    </tr>\n    <tr>\n      <th>3</th>\n      <td>mean area</td>\n      <td>10</td>\n      <td>0</td>\n      <td>3</td>\n    </tr>\n    <tr>\n      <th>4</th>\n      <td>mean smoothness</td>\n      <td>10</td>\n      <td>0</td>\n      <td>4</td>\n    </tr>\n    <tr>\n      <th>5</th>\n      <td>mean compactness</td>\n      <td>10</td>\n      <td>1</td>\n      <td>5</td>\n    </tr>\n    <tr>\n      <th>6</th>\n      <td>mean concavity</td>\n      <td>10</td>\n      <td>1</td>\n      <td>6</td>\n    </tr>\n    <tr>\n      <th>7</th>\n      <td>mean concave points</td>\n      <td>10</td>\n      <td>1</td>\n      <td>7</td>\n    </tr>\n    <tr>\n      <th>8</th>\n      <td>mean symmetry</td>\n      <td>10</td>\n      <td>1</td>\n      <td>8</td>\n    </tr>\n    <tr>\n      <th>9</th>\n      <td>mean fractal dimension</td>\n      <td>10</td>\n      <td>1</td>\n      <td>9</td>\n    </tr>\n    <tr>\n      <th>10</th>\n      <td>radius error</td>\n      <td>10</td>\n      <td>2</td>\n      <td>10</td>\n    </tr>\n    <tr>\n      <th>11</th>\n      <td>texture error</td>\n      <td>10</td>\n      <td>2</td>\n      <td>11</td>\n    </tr>\n    <tr>\n      <th>12</th>\n      <td>perimeter error</td>\n      <td>10</td>\n      <td>2</td>\n      <td>12</td>\n    </tr>\n    <tr>\n      <th>13</th>\n      <td>area error</td>\n      <td>10</td>\n      <td>2</td>\n      <td>13</td>\n    </tr>\n    <tr>\n      <th>14</th>\n      <td>smoothness error</td>\n      <td>10</td>\n      <td>2</td>\n      <td>14</td>\n    </tr>\n    <tr>\n      <th>15</th>\n      <td>compactness error</td>\n      <td>10</td>\n      <td>3</td>\n      <td>15</td>\n    </tr>\n    <tr>\n      <th>16</th>\n      <td>concavity error</td>\n      <td>10</td>\n      <td>3</td>\n      <td>16</td>\n    </tr>\n    <tr>\n      <th>17</th>\n      <td>concave points error</td>\n      <td>10</td>\n      <td>3</td>\n      <td>17</td>\n    </tr>\n    <tr>\n      <th>18</th>\n      <td>symmetry error</td>\n      <td>10</td>\n      <td>3</td>\n      <td>18</td>\n    </tr>\n    <tr>\n      <th>19</th>\n      <td>fractal dimension error</td>\n      <td>10</td>\n      <td>3</td>\n      <td>19</td>\n    </tr>\n    <tr>\n      <th>20</th>\n      <td>worst radius</td>\n      <td>9</td>\n      <td>5</td>\n      <td>20</td>\n    </tr>\n    <tr>\n      <th>21</th>\n      <td>worst texture</td>\n      <td>9</td>\n      <td>5</td>\n      <td>21</td>\n    </tr>\n    <tr>\n      <th>22</th>\n      <td>worst perimeter</td>\n      <td>9</td>\n      <td>5</td>\n      <td>22</td>\n    </tr>\n    <tr>\n      <th>23</th>\n      <td>worst area</td>\n      <td>9</td>\n      <td>5</td>\n      <td>23</td>\n    </tr>\n    <tr>\n      <th>24</th>\n      <td>worst smoothness</td>\n      <td>9</td>\n      <td>5</td>\n      <td>24</td>\n    </tr>\n    <tr>\n      <th>25</th>\n      <td>worst compactness</td>\n      <td>8</td>\n      <td>5</td>\n      <td>25</td>\n    </tr>\n    <tr>\n      <th>26</th>\n      <td>worst concavity</td>\n      <td>8</td>\n      <td>5</td>\n      <td>26</td>\n    </tr>\n    <tr>\n      <th>27</th>\n      <td>worst concave points</td>\n      <td>8</td>\n      <td>5</td>\n      <td>27</td>\n    </tr>\n    <tr>\n      <th>28</th>\n      <td>worst symmetry</td>\n      <td>8</td>\n      <td>5</td>\n      <td>28</td>\n    </tr>\n    <tr>\n      <th>29</th>\n      <td>worst fractal dimension</td>\n      <td>8</td>\n      <td>5</td>\n      <td>29</td>\n    </tr>\n  </tbody>\n</table>\n</div>"
     },
     "execution_count": 7,
     "metadata": {},
     "output_type": "execute_result"
    }
   ],
   "source": [
    "groups_df = pd.DataFrame({\n",
    "    'feature': cancer['feature_names'],\n",
    "    'costs': [10]*5+[10]*5+[10]*5+[10]*5+[9]*5+[8]*5,\n",
    "    'group_id': [0]*5+[1]*5+[2]*5+[3]*5+[5]*5+[5]*5,\n",
    "    'feature_id': [i for i in range(30)]\n",
    "})\n",
    "groups_df"
   ],
   "metadata": {
    "collapsed": false
   }
  },
  {
   "cell_type": "code",
   "execution_count": 8,
   "outputs": [
    {
     "name": "stdout",
     "output_type": "stream",
     "text": [
      "0.21224175566366077\n",
      "4.198612604606511\n"
     ]
    }
   ],
   "source": [
    "group_costs = {}\n",
    "for i,j in zip(groups_df['group_id'], groups_df['costs']):\n",
    "    if i not in group_costs:\n",
    "        group_costs[i] = j\n",
    "\n",
    "normalized_costs = {}\n",
    "min_cost = min(group_costs.values())\n",
    "max_cost = max(group_costs.values())\n",
    "for k,v in group_costs.items():\n",
    "    normalized_costs[k] = (1 - 0.1) * (v - min_cost) / (max_cost - min_cost) + 0.1\n",
    "\n",
    "groups = {}\n",
    "for i,j in zip(groups_df['group_id'], groups_df['feature_id']):\n",
    "    if i not in groups:\n",
    "        groups[i] = [j]\n",
    "    else:\n",
    "        groups[i].append(j)\n",
    "\n",
    "features_dict = {}\n",
    "for i,j in zip(groups_df['feature_id'], groups_df['feature']):\n",
    "    features_dict[i] = j\n",
    "\n",
    "\n",
    "l_opt = 0.21224175566366077\n",
    "l_opt_group = 4.198612604606511\n",
    "\n",
    "if l_opt is None:\n",
    "    l_opt = lmb_opt(X=X_train, y=y_train, groups=groups, group_costs=group_costs, normalized_costs=normalized_costs, budget=20, n=10, m=10000)\n",
    "if l_opt_group is None:\n",
    "    l_opt_group = lmb_opt_group(X=X_train, y=y_train, groups=groups, group_costs=group_costs, normalized_costs=normalized_costs, budget=20, n=10, m=5000)\n",
    "\n",
    "print(l_opt)\n",
    "print(l_opt_group)"
   ],
   "metadata": {
    "collapsed": false
   }
  },
  {
   "cell_type": "markdown",
   "source": [
    "# Feature selection"
   ],
   "metadata": {
    "collapsed": false
   }
  },
  {
   "cell_type": "markdown",
   "source": [
    "### Traditional"
   ],
   "metadata": {
    "collapsed": false
   }
  },
  {
   "cell_type": "code",
   "execution_count": 9,
   "outputs": [
    {
     "name": "stdout",
     "output_type": "stream",
     "text": [
      "Num of features:  1\n",
      "Total cost     :  10\n",
      "Num of features:  2\n",
      "Total cost     :  20\n",
      "Num of features:  7\n",
      "Total cost     :  30\n",
      "Num of features:  15\n",
      "Total cost     :  40\n",
      "Num of features:  16\n",
      "Total cost     :  49\n"
     ]
    }
   ],
   "source": [
    "features_trad_a1, costs_trad_a1 = find_best_features_subset(\n",
    "    X_train,\n",
    "    y_train,\n",
    "    groups,\n",
    "    group_costs,\n",
    "    budget=BUDGET\n",
    ")\n",
    "df_traditional = pd.DataFrame({\n",
    "        'feature_order' : features_trad_a1,\n",
    "        'total_cost': costs_trad_a1\n",
    "    })"
   ],
   "metadata": {
    "collapsed": false
   }
  },
  {
   "cell_type": "markdown",
   "source": [
    "### Cost-constrained (CC-SFS)"
   ],
   "metadata": {
    "collapsed": false
   }
  },
  {
   "cell_type": "code",
   "execution_count": 10,
   "outputs": [
    {
     "name": "stdout",
     "output_type": "stream",
     "text": [
      "Num of features:  1\n",
      "Total cost     :  9\n",
      "Num of features:  11\n",
      "Total cost     :  19\n",
      "Num of features:  16\n",
      "Total cost     :  29\n",
      "Num of features:  21\n",
      "Total cost     :  39\n",
      "Num of features:  26\n",
      "Total cost     :  49\n"
     ]
    }
   ],
   "source": [
    "features_cs_sfs, costs_cs_sfs = find_best_features_subset(\n",
    "    X_train,\n",
    "    y_train,\n",
    "    groups,\n",
    "    group_costs,\n",
    "    budget=BUDGET,\n",
    "    lmb=l_opt\n",
    ")\n",
    "df_cc_sfs = pd.DataFrame({\n",
    "        'feature_order' : features_cs_sfs,\n",
    "        'total_cost': costs_cs_sfs\n",
    "    })"
   ],
   "metadata": {
    "collapsed": false
   }
  },
  {
   "cell_type": "markdown",
   "source": [
    "### Cost-constrained (CC-GFS)"
   ],
   "metadata": {
    "collapsed": false
   }
  },
  {
   "cell_type": "code",
   "execution_count": 11,
   "outputs": [
    {
     "name": "stdout",
     "output_type": "stream",
     "text": [
      "Num of f, c :  1 ,  1\n",
      "Total cost  :  9\n",
      "Num of f, c :  2 ,  2\n",
      "Total cost  :  9\n",
      "Num of f, c :  2 ,  2\n",
      "Total cost  :  19\n",
      "Num of f, c :  3 ,  3\n",
      "Total cost  :  29\n",
      "Num of f, c :  3 ,  3\n",
      "Total cost  :  39\n"
     ]
    }
   ],
   "source": [
    "TAU = 0.8\n",
    "features_cs_gfs, costs_cs_gfs = find_best_group_subset(\n",
    "    X_train,\n",
    "    y_train,\n",
    "    groups,\n",
    "    group_costs,\n",
    "    budget=BUDGET,\n",
    "    tau=TAU,\n",
    "    lmb=l_opt_group\n",
    ")\n",
    "df_cc_gfs = pd.DataFrame({\n",
    "    'feature_order' : features_cs_gfs,\n",
    "    'total_cost': costs_cs_gfs\n",
    "})\n"
   ],
   "metadata": {
    "collapsed": false
   }
  },
  {
   "cell_type": "markdown",
   "source": [
    "# Results"
   ],
   "metadata": {
    "collapsed": false
   }
  },
  {
   "cell_type": "markdown",
   "source": [
    "### Plot settings"
   ],
   "metadata": {
    "collapsed": false
   }
  },
  {
   "cell_type": "code",
   "execution_count": 12,
   "outputs": [
    {
     "data": {
      "text/plain": "{'names': {'traditional': 'Traditional',\n  'cc_sfs': 'CC-SFS',\n  'cc_gfs': 'CC-GFS'},\n 'colors': {'traditional': 'red', 'cc_sfs': 'blue', 'cc_gfs': 'green'},\n 'linestyles': {'traditional': 'solid',\n  'cc_sfs': 'dashed',\n  'cc_gfs': 'dashed'}}"
     },
     "execution_count": 12,
     "metadata": {},
     "output_type": "execute_result"
    }
   ],
   "source": [
    "dict_desc_names = {\n",
    "    'traditional' : 'Traditional',\n",
    "    'cc_sfs' : 'CC-SFS',\n",
    "    'cc_gfs' : 'CC-GFS'\n",
    "}\n",
    "\n",
    "dict_colors = {\n",
    "    'traditional' : 'red',\n",
    "    'cc_sfs' : 'blue',\n",
    "    'cc_gfs' : 'green'\n",
    "}\n",
    "\n",
    "dict_linestyle = {\n",
    "    'traditional' : 'solid',\n",
    "    'cc_sfs' : 'dashed',\n",
    "    'cc_gfs' : 'dashed'\n",
    "}\n",
    "\n",
    "plot_settings = {}\n",
    "plot_settings['names'] = dict_desc_names\n",
    "plot_settings['colors'] = dict_colors\n",
    "plot_settings['linestyles'] = dict_linestyle\n",
    "plot_settings"
   ],
   "metadata": {
    "collapsed": false
   }
  },
  {
   "cell_type": "markdown",
   "source": [
    "### Scoring"
   ],
   "metadata": {
    "collapsed": false
   }
  },
  {
   "cell_type": "code",
   "execution_count": 13,
   "outputs": [],
   "source": [
    "scores = {}\n",
    "scores['traditional'] = score(\n",
    "    X_train = X_train,\n",
    "    y_train = y_train,\n",
    "    X_test = X_test,\n",
    "    y_test = y_test,\n",
    "    feature_order = df_traditional['feature_order']\n",
    ")\n",
    "scores['cc_sfs'] = score(\n",
    "    X_train = X_train,\n",
    "    y_train = y_train,\n",
    "    X_test = X_test,\n",
    "    y_test = y_test,\n",
    "    feature_order = df_cc_sfs['feature_order']\n",
    ")\n",
    "scores['cc_gfs'] = score(\n",
    "    X_train = X_train,\n",
    "    y_train = y_train,\n",
    "    X_test = X_test,\n",
    "    y_test = y_test,\n",
    "    feature_order = df_cc_gfs['feature_order']\n",
    ")"
   ],
   "metadata": {
    "collapsed": false
   }
  },
  {
   "cell_type": "code",
   "execution_count": 14,
   "outputs": [],
   "source": [
    "results_df = {}\n",
    "\n",
    "results_df['traditional'] = pd.DataFrame({\n",
    "    'feature_order' : df_traditional['feature_order'],\n",
    "    'total_cost': df_traditional['total_cost'],\n",
    "    'score' : scores['traditional']\n",
    "}).groupby('total_cost', as_index=False).agg({'score':max})\n",
    "\n",
    "results_df['cc_sfs'] = pd.DataFrame({\n",
    "    'feature_order' : df_cc_sfs['feature_order'],\n",
    "    'total_cost': df_cc_sfs['total_cost'],\n",
    "    'score' : scores['cc_sfs']\n",
    "}).groupby('total_cost', as_index=False).agg({'score':max})\n",
    "\n",
    "results_df['cc_gfs'] = pd.DataFrame({\n",
    "    'feature_order' : df_cc_gfs['feature_order'],\n",
    "    'total_cost': df_cc_gfs['total_cost'],\n",
    "    'score' : scores['cc_gfs']\n",
    "}).groupby('total_cost', as_index=False).agg({'score':max})"
   ],
   "metadata": {
    "collapsed": false
   }
  },
  {
   "cell_type": "markdown",
   "source": [
    "### Plots"
   ],
   "metadata": {
    "collapsed": false
   }
  },
  {
   "cell_type": "code",
   "execution_count": 15,
   "outputs": [
    {
     "data": {
      "text/plain": "<Figure size 900x600 with 1 Axes>",
      "image/png": "[encoded data removed]"
     },
     "metadata": {},
     "output_type": "display_data"
    }
   ],
   "source": [
    "plot_scores(\n",
    "    results_df=results_df,\n",
    "    budget=30,\n",
    "    total_cost=TOTAL_COST,\n",
    "    plot_settings=plot_settings\n",
    ")"
   ],
   "metadata": {
    "collapsed": false
   }
  },
  {
   "cell_type": "code",
   "execution_count": 15,
   "outputs": [],
   "source": [],
   "metadata": {
    "collapsed": false
   }
  }
 ],
 "metadata": {
  "kernelspec": {
   "display_name": "Python 3",
   "language": "python",
   "name": "python3"
  },
  "language_info": {
   "codemirror_mode": {
    "name": "ipython",
    "version": 2
   },
   "file_extension": ".py",
   "mimetype": "text/x-python",
   "name": "python",
   "nbconvert_exporter": "python",
   "pygments_lexer": "ipython2",
   "version": "2.7.6"
  }
 },
 "nbformat": 4,
 "nbformat_minor": 0
}
